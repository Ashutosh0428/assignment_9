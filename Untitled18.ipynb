{
 "cells": [
  {
   "cell_type": "markdown",
   "id": "b1092e1b",
   "metadata": {},
   "source": [
    "# Assignment_9"
   ]
  },
  {
   "cell_type": "markdown",
   "id": "5f8627ee",
   "metadata": {},
   "source": [
    "1.\n",
    "os.path.relpath() method in Python is used to get a relative filepath to the given path either from the current working directory or from the given directory."
   ]
  },
  {
   "cell_type": "markdown",
   "id": "845d88fb",
   "metadata": {},
   "source": [
    "2.\n",
    "An absolute path refers to the complete details needed to locate a file or folder, starting from the root element and ending with the other subdirectories. Absolute paths are used in websites and operating systems for locating files and folders. An absolute path is also known as an absolute pathname "
   ]
  },
  {
   "cell_type": "markdown",
   "id": "b40dc294",
   "metadata": {},
   "source": [
    "3.\n",
    "getcwd() method tells us the location of current working directory\n",
    "\n",
    "\n",
    "chdir() method in Python used to change the current working directory to specified path"
   ]
  },
  {
   "cell_type": "markdown",
   "id": "8286bc5b",
   "metadata": {},
   "source": [
    "4.\n",
    "\n",
    "The . is the current directory, while .. signifies the parent directory"
   ]
  },
  {
   "cell_type": "markdown",
   "id": "661f8d8c",
   "metadata": {},
   "source": [
    "5.\n",
    "C:\\bacon\\eggs is the dir name, while spam.txt is the base name"
   ]
  },
  {
   "cell_type": "markdown",
   "id": "49a4b4bf",
   "metadata": {},
   "source": [
    "6.\n",
    "The string 'r' for read mode, 'w' for write mode, and 'a' for append mode"
   ]
  },
  {
   "cell_type": "markdown",
   "id": "3603d9e4",
   "metadata": {},
   "source": [
    "7.\n",
    "An existing file opened in write mode is erased and completely overwritten."
   ]
  },
  {
   "cell_type": "markdown",
   "id": "f680cb06",
   "metadata": {},
   "source": [
    "8.\n",
    "The read() method returns the file's entire contents as a single string value. The readlines() method returns a list of strings, where each string is a line from the file's contents."
   ]
  },
  {
   "cell_type": "markdown",
   "id": "08b1fee4",
   "metadata": {},
   "source": [
    "9.\n",
    "A shelf value resembles a dictionary value; it has keys and values, along with keys() and values() methods that work similarly to the dictionary methods of the same names."
   ]
  }
 ],
 "metadata": {
  "kernelspec": {
   "display_name": "Python 3 (ipykernel)",
   "language": "python",
   "name": "python3"
  },
  "language_info": {
   "codemirror_mode": {
    "name": "ipython",
    "version": 3
   },
   "file_extension": ".py",
   "mimetype": "text/x-python",
   "name": "python",
   "nbconvert_exporter": "python",
   "pygments_lexer": "ipython3",
   "version": "3.9.7"
  }
 },
 "nbformat": 4,
 "nbformat_minor": 5
}
